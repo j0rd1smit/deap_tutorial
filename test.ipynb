{
 "cells": [
  {
   "cell_type": "code",
   "execution_count": 1,
   "metadata": {
    "collapsed": true,
    "pycharm": {
     "is_executing": false
    }
   },
   "outputs": [],
   "source": [
    "from deap import base, creator, tools\n",
    "import random"
   ]
  },
  {
   "cell_type": "code",
   "execution_count": 2,
   "metadata": {
    "pycharm": {
     "is_executing": false
    }
   },
   "outputs": [],
   "source": [
    "toolbox = base.Toolbox()"
   ]
  },
  {
   "cell_type": "code",
   "execution_count": 3,
   "metadata": {
    "pycharm": {
     "name": "#%%\n",
     "is_executing": false
    }
   },
   "outputs": [],
   "source": [
    "maximize = 1.0\n",
    "minimize = -1.0\n",
    "\n",
    "weights = (minimize, ) # this is tuple with the weight for each sub objective function.\n",
    "\n",
    "creator.create(\"FitnessMin\", base.Fitness, weights=(minimize,))"
   ]
  },
  {
   "cell_type": "code",
   "execution_count": 4,
   "metadata": {
    "pycharm": {
     "is_executing": false
    }
   },
   "outputs": [
    {
     "data": {
      "text/plain": "[0.6229909256485334, 0.3540398980582532]"
     },
     "metadata": {},
     "output_type": "execute_result",
     "execution_count": 4
    }
   ],
   "source": [
    "tools.initRepeat(list, random.random, 2)"
   ]
  },
  {
   "cell_type": "code",
   "execution_count": 5,
   "metadata": {
    "pycharm": {
     "is_executing": false
    }
   },
   "outputs": [
    {
     "name": "stdout",
     "text": [
      "attr_float:  0.406778934678787\n",
      "individual:  [0.6987291672789144, 0.8849684362010677, 0.79735333463574]\n",
      "population:  [[0.8651925822942966, 0.17669426550991474, 0.7938834125928966], [0.5896936263305593, 0.07457848171380177, 0.6041012928324733]]\n"
     ],
     "output_type": "stream"
    }
   ],
   "source": [
    "creator.create(\"Individual\", list, fitness=creator.FitnessMin)\n",
    "\n",
    "IND_SIZE = 3\n",
    "\n",
    "#toolbox.register(<alias>, creator_func, <arg producers for creator_func ...>)\n",
    "toolbox.register(\"attr_float\", random.random)\n",
    "toolbox.register(\"individual\", tools.initRepeat, container=creator.Individual, func=toolbox.attr_float, n=IND_SIZE)\n",
    "toolbox.register(\"population\", tools.initRepeat, list, toolbox.individual)\n",
    "\n",
    "print(\"attr_float: \", toolbox.attr_float())\n",
    "print(\"individual: \", toolbox.individual())\n",
    "print(\"population: \", toolbox.population(n=2))"
   ]
  },
  {
   "cell_type": "code",
   "execution_count": 6,
   "metadata": {
    "pycharm": {
     "is_executing": false
    }
   },
   "outputs": [],
   "source": [
    "def evaluate(individual):\n",
    "    return abs(sum(individual)),\n",
    "\n",
    "toolbox.register(\"mate\", tools.cxTwoPoint)\n",
    "toolbox.register(\"mutate\", tools.mutGaussian, mu=0, sigma=1, indpb=0.1)\n",
    "toolbox.register(\"select\", tools.selTournament, tournsize=3)\n",
    "toolbox.register(\"evaluate\", evaluate)"
   ]
  },
  {
   "cell_type": "code",
   "execution_count": 7,
   "metadata": {
    "pycharm": {
     "is_executing": false
    }
   },
   "outputs": [
    {
     "name": "stdout",
     "text": [
      "[0.22832860752363826, 0.762435741260044, 0.41583159077585763]\n",
      "[0.6787986915372294, 0.6078543634960761, 0.29583844000496107]\n",
      "([0.22832860752363826, 0.6078543634960761, 0.29583844000496107], [0.6787986915372294, 0.762435741260044, 0.41583159077585763])\n",
      "(1.1320214110246756,) (1.8570660235731309,)\n",
      "[[0.6787986915372294, 0.762435741260044, 0.41583159077585763]]\n"
     ],
     "output_type": "stream"
    }
   ],
   "source": [
    "individual = toolbox.individual()\n",
    "other = toolbox.individual()\n",
    "\n",
    "print(individual)\n",
    "print(other)\n",
    "print(toolbox.mate(individual, other))\n",
    "print(toolbox.evaluate(individual), toolbox.evaluate(other))\n",
    "print(toolbox.select([individual, other, individual], k=1))"
   ]
  },
  {
   "cell_type": "code",
   "execution_count": 8,
   "metadata": {
    "pycharm": {
     "is_executing": false
    }
   },
   "outputs": [
    {
     "name": "stdout",
     "text": [
      "(0.007288291365898869,)\n",
      "(0.007288291365898869,)\n",
      "(0.007288291365898869,)\n",
      "(0.007288291365898869,)\n",
      "(0.007288291365898869,)\n",
      "(0.007288291365898869,)\n",
      "(0.007288291365898869,)\n",
      "(0.007288291365898869,)\n",
      "(0.007288291365898869,)\n",
      "(0.007288291365898869,)\n",
      "(0.2767290344343183,)\n",
      "(0.007288291365898869,)\n",
      "(1.7834658401880348,)\n",
      "(0.007288291365898869,)\n",
      "(0.007288291365898869,)\n",
      "(0.007288291365898869,)\n",
      "(0.007288291365898869,)\n",
      "(0.007288291365898869,)\n",
      "(0.007288291365898869,)\n",
      "(0.007288291365898869,)\n",
      "(0.007288291365898869,)\n",
      "(0.007288291365898869,)\n",
      "(0.007288291365898869,)\n",
      "(0.007288291365898869,)\n",
      "(0.007288291365898869,)\n",
      "(0.007288291365898869,)\n",
      "(0.007288291365898869,)\n",
      "(0.007288291365898869,)\n",
      "(0.007288291365898869,)\n",
      "(0.007288291365898869,)\n",
      "(0.007288291365898869,)\n",
      "(0.007288291365898869,)\n",
      "(0.007288291365898869,)\n",
      "(0.007288291365898869,)\n",
      "(0.007288291365898869,)\n",
      "(0.007288291365898869,)\n",
      "(0.007288291365898869,)\n",
      "(0.007288291365898869,)\n",
      "(0.007288291365898869,)\n",
      "(0.007288291365898869,)\n",
      "(0.007288291365898869,)\n",
      "(0.007288291365898869,)\n",
      "(0.007288291365898869,)\n",
      "(0.007288291365898869,)\n",
      "(0.007288291365898869,)\n",
      "(0.007288291365898869,)\n",
      "(0.007288291365898869,)\n",
      "(0.007288291365898869,)\n",
      "(0.007288291365898869,)\n",
      "(0.007288291365898869,)\n"
     ],
     "output_type": "stream"
    }
   ],
   "source": [
    "pop = toolbox.population(n=50)\n",
    "CXPB, MUTPB, NGEN = 0.5, 0.2, 40\n",
    "\n",
    "# Evaluate the entire population\n",
    "fitnesses = map(toolbox.evaluate, pop)\n",
    "for ind, fit in zip(pop, fitnesses):\n",
    "    ind.fitness.values = fit\n",
    "\n",
    "for g in range(NGEN):\n",
    "    # Select the next generation individuals\n",
    "    offspring = toolbox.select(pop, len(pop))\n",
    "    # Clone the selected individuals\n",
    "    offspring = list(map(toolbox.clone, offspring))\n",
    "\n",
    "    # Apply crossover and mutation on the offspring\n",
    "    for child1, child2 in zip(offspring[::2], offspring[1::2]):\n",
    "        if random.random() < CXPB:\n",
    "            toolbox.mate(child1, child2)\n",
    "            del child1.fitness.values\n",
    "            del child2.fitness.values\n",
    "\n",
    "    for mutant in offspring:\n",
    "        if random.random() < MUTPB:\n",
    "            toolbox.mutate(mutant)\n",
    "            del mutant.fitness.values\n",
    "\n",
    "    # Evaluate the individuals with an invalid fitness\n",
    "    invalid_ind = [ind for ind in offspring if not ind.fitness.valid]\n",
    "    fitnesses = map(toolbox.evaluate, invalid_ind)\n",
    "    for ind, fit in zip(invalid_ind, fitnesses):\n",
    "        ind.fitness.values = fit\n",
    "\n",
    "    # The population is entirely replaced by the offspring\n",
    "    pop[:] = offspring\n",
    "\n",
    "for ind in pop:\n",
    "    print(ind.fitness.values)"
   ]
  },
  {
   "cell_type": "code",
   "execution_count": 8,
   "metadata": {
    "pycharm": {
     "is_executing": false
    }
   },
   "outputs": [],
   "source": []
  }
 ],
 "metadata": {
  "kernelspec": {
   "display_name": "Python 3",
   "language": "python",
   "name": "python3"
  },
  "language_info": {
   "codemirror_mode": {
    "name": "ipython",
    "version": 3
   },
   "file_extension": ".py",
   "mimetype": "text/x-python",
   "name": "python",
   "nbconvert_exporter": "python",
   "pygments_lexer": "ipython3",
   "version": "3.6.10"
  },
  "pycharm": {
   "stem_cell": {
    "cell_type": "raw",
    "source": [],
    "metadata": {
     "collapsed": false
    }
   }
  }
 },
 "nbformat": 4,
 "nbformat_minor": 1
}