{
 "cells": [
  {
   "cell_type": "code",
   "execution_count": 1,
   "metadata": {
    "collapsed": true,
    "pycharm": {
     "is_executing": false
    }
   },
   "outputs": [],
   "source": [
    "from deap import base, creator, tools\n",
    "import random"
   ]
  },
  {
   "cell_type": "code",
   "execution_count": 5,
   "metadata": {},
   "outputs": [],
   "source": [
    "toolbox = base.Toolbox()"
   ]
  },
  {
   "cell_type": "code",
   "execution_count": 2,
   "metadata": {
    "pycharm": {
     "name": "#%%\n"
    }
   },
   "outputs": [],
   "source": [
    "maximize = 1.0\n",
    "minimize = -1.0\n",
    "\n",
    "weights = (minimize, ) # this is tuple with the weight for each sub objective function.\n",
    "\n",
    "creator.create(\"FitnessMin\", base.Fitness, weights=(minimize,))"
   ]
  },
  {
   "cell_type": "code",
   "execution_count": 10,
   "metadata": {},
   "outputs": [
    {
     "data": {
      "text/plain": [
       "[0.3222365992861065, 0.11522557521018961]"
      ]
     },
     "execution_count": 10,
     "metadata": {},
     "output_type": "execute_result"
    }
   ],
   "source": [
    "tools.initRepeat(list, random.random, 2)"
   ]
  },
  {
   "cell_type": "code",
   "execution_count": 31,
   "metadata": {},
   "outputs": [
    {
     "name": "stdout",
     "output_type": "stream",
     "text": [
      "attr_float:  0.41984491177087413\n",
      "individual:  [0.23406652469542466, 0.05774036874446398, 0.7199888501025873]\n",
      "population:  [[0.8472871194908286, 0.09265069165807993, 0.24051662007294616], [0.3160398662829582, 0.28725113921066814, 0.7007611698902338]]\n"
     ]
    }
   ],
   "source": [
    "creator.create(\"Individual\", list, fitness=creator.FitnessMin)\n",
    "\n",
    "IND_SIZE = 3\n",
    "\n",
    "#toolbox.register(<alias>, creator_func, <arg producers for creator_func ...>)\n",
    "toolbox.register(\"attr_float\", random.random)\n",
    "toolbox.register(\"individual\", tools.initRepeat, container=creator.Individual, func=toolbox.attr_float, n=IND_SIZE)\n",
    "toolbox.register(\"population\", tools.initRepeat, list, toolbox.individual)\n",
    "\n",
    "print(\"attr_float: \", toolbox.attr_float())\n",
    "print(\"individual: \", toolbox.individual())\n",
    "print(\"population: \", toolbox.population(n=2))"
   ]
  },
  {
   "cell_type": "code",
   "execution_count": 46,
   "metadata": {},
   "outputs": [],
   "source": [
    "def evaluate(individual):\n",
    "    return abs(sum(individual)),\n",
    "\n",
    "toolbox.register(\"mate\", tools.cxTwoPoint)\n",
    "toolbox.register(\"mutate\", tools.mutGaussian, mu=0, sigma=1, indpb=0.1)\n",
    "toolbox.register(\"select\", tools.selTournament, tournsize=3)\n",
    "toolbox.register(\"evaluate\", evaluate)"
   ]
  },
  {
   "cell_type": "code",
   "execution_count": 40,
   "metadata": {},
   "outputs": [
    {
     "name": "stdout",
     "output_type": "stream",
     "text": [
      "[0.38458376850573983, 0.6628830349771406, 0.8482388771558884]\n",
      "[0.3094222769617946, 0.12236717795574725, 0.1280892107964443]\n",
      "([0.38458376850573983, 0.12236717795574725, 0.8482388771558884], [0.3094222769617946, 0.6628830349771406, 0.1280892107964443])\n",
      "(1.3551898236173754,) (1.1003945227353795,)\n",
      "[[0.38458376850573983, 0.12236717795574725, 0.8482388771558884]]\n"
     ]
    }
   ],
   "source": [
    "individual = toolbox.individual()\n",
    "other = toolbox.individual()\n",
    "\n",
    "print(individual)\n",
    "print(other)\n",
    "print(toolbox.mate(individual, other))\n",
    "print(toolbox.evaluate(individual), toolbox.evaluate(other))\n",
    "print(toolbox.select([individual, other, individual], k=1))"
   ]
  },
  {
   "cell_type": "code",
   "execution_count": 48,
   "metadata": {},
   "outputs": [
    {
     "name": "stdout",
     "output_type": "stream",
     "text": [
      "(0.04353217557845501,)\n",
      "(0.04353217557845501,)\n",
      "(0.04353217557845501,)\n",
      "(0.04353217557845501,)\n",
      "(0.04353217557845501,)\n",
      "(0.04353217557845501,)\n",
      "(0.04353217557845501,)\n",
      "(0.04353217557845501,)\n",
      "(0.04353217557845501,)\n",
      "(0.04353217557845501,)\n",
      "(0.04353217557845501,)\n",
      "(0.04353217557845501,)\n",
      "(0.04353217557845501,)\n",
      "(0.04353217557845501,)\n",
      "(0.8028961418987199,)\n",
      "(0.04353217557845501,)\n",
      "(0.04353217557845501,)\n",
      "(0.04353217557845501,)\n",
      "(0.04353217557845501,)\n",
      "(0.04353217557845501,)\n",
      "(0.04353217557845501,)\n",
      "(0.04353217557845501,)\n",
      "(0.04353217557845501,)\n",
      "(0.04353217557845501,)\n",
      "(0.04353217557845501,)\n",
      "(0.04353217557845501,)\n",
      "(0.04353217557845501,)\n",
      "(0.04353217557845501,)\n",
      "(0.04353217557845501,)\n",
      "(0.04353217557845501,)\n",
      "(0.6371597563395621,)\n",
      "(0.33024006591264105,)\n",
      "(0.04353217557845501,)\n",
      "(0.04353217557845501,)\n",
      "(0.04353217557845501,)\n",
      "(0.04353217557845501,)\n",
      "(0.14846144114001014,)\n",
      "(0.04353217557845501,)\n",
      "(0.04353217557845501,)\n",
      "(2.041920321506839,)\n",
      "(0.04353217557845501,)\n",
      "(0.04353217557845501,)\n",
      "(0.04353217557845501,)\n",
      "(0.04353217557845501,)\n",
      "(0.04353217557845501,)\n",
      "(0.04353217557845501,)\n",
      "(2.0283388346317506,)\n",
      "(0.04353217557845501,)\n",
      "(0.04353217557845501,)\n",
      "(0.04353217557845501,)\n"
     ]
    }
   ],
   "source": [
    "pop = toolbox.population(n=50)\n",
    "CXPB, MUTPB, NGEN = 0.5, 0.2, 40\n",
    "\n",
    "# Evaluate the entire population\n",
    "fitnesses = map(toolbox.evaluate, pop)\n",
    "for ind, fit in zip(pop, fitnesses):\n",
    "    ind.fitness.values = fit\n",
    "\n",
    "for g in range(NGEN):\n",
    "    # Select the next generation individuals\n",
    "    offspring = toolbox.select(pop, len(pop))\n",
    "    # Clone the selected individuals\n",
    "    offspring = list(map(toolbox.clone, offspring))\n",
    "\n",
    "    # Apply crossover and mutation on the offspring\n",
    "    for child1, child2 in zip(offspring[::2], offspring[1::2]):\n",
    "        if random.random() < CXPB:\n",
    "            toolbox.mate(child1, child2)\n",
    "            del child1.fitness.values\n",
    "            del child2.fitness.values\n",
    "\n",
    "    for mutant in offspring:\n",
    "        if random.random() < MUTPB:\n",
    "            toolbox.mutate(mutant)\n",
    "            del mutant.fitness.values\n",
    "\n",
    "    # Evaluate the individuals with an invalid fitness\n",
    "    invalid_ind = [ind for ind in offspring if not ind.fitness.valid]\n",
    "    fitnesses = map(toolbox.evaluate, invalid_ind)\n",
    "    for ind, fit in zip(invalid_ind, fitnesses):\n",
    "        ind.fitness.values = fit\n",
    "\n",
    "    # The population is entirely replaced by the offspring\n",
    "    pop[:] = offspring\n",
    "\n",
    "for ind in pop:\n",
    "    print(ind.fitness.values)"
   ]
  },
  {
   "cell_type": "code",
   "execution_count": null,
   "metadata": {},
   "outputs": [],
   "source": []
  }
 ],
 "metadata": {
  "kernelspec": {
   "display_name": "Python 3",
   "language": "python",
   "name": "python3"
  },
  "language_info": {
   "codemirror_mode": {
    "name": "ipython",
    "version": 3
   },
   "file_extension": ".py",
   "mimetype": "text/x-python",
   "name": "python",
   "nbconvert_exporter": "python",
   "pygments_lexer": "ipython3",
   "version": "3.6.10"
  },
  "pycharm": {
   "stem_cell": {
    "cell_type": "raw",
    "metadata": {
     "collapsed": false
    },
    "source": []
   }
  }
 },
 "nbformat": 4,
 "nbformat_minor": 1
}
