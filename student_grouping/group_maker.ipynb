{
 "cells": [
  {
   "cell_type": "code",
   "execution_count": 1,
   "metadata": {
    "collapsed": true,
    "pycharm": {
     "is_executing": false
    }
   },
   "outputs": [],
   "source": [
    "from typing import List, Tuple, NamedTuple\n",
    "from tqdm import trange\n",
    "import json\n",
    "import random\n",
    "from deap import base, creator, tools\n",
    "from IPython.display import clear_output\n",
    "import matplotlib.pyplot as plt\n",
    "\n",
    "\n",
    "Grouping = List[List[int]]\n",
    "Gene = NamedTuple(\"Gene\", [('project_idxs', List[int]), ('student_idxs', List[int]),])\n",
    "Indiviual = Tuple[Gene]\n"
   ]
  },
  {
   "cell_type": "markdown",
   "source": [
    "## Data helpers"
   ],
   "metadata": {
    "collapsed": false
   }
  },
  {
   "cell_type": "code",
   "execution_count": 2,
   "outputs": [],
   "source": [
    "file_path = \"data.json\"\n",
    "with open(file_path) as f:\n",
    "    data = json.load(f)\n",
    "\n",
    "project_names = list(map(lambda p: p[\"name\"], data[\"projects\"]))\n",
    "student_names = list(map(lambda s: s[\"name\"], data[\"students\"]))\n",
    "\n",
    "n_projects = len(data[\"projects\"])\n",
    "n_students = len(data[\"students\"])\n",
    "BEST_RATING = 1\n",
    "WORST_RATING = n_projects + 1\n",
    "\n",
    "def get_project_name(project_idx):\n",
    "    return data[\"projects\"][project_idx][\"name\"]\n",
    "\n",
    "def get_max_assignements_project(project_idx):\n",
    "    return data[\"projects\"][project_idx][\"max_n_students\"]\n",
    "\n",
    "def get_student_rating(project_idx, student_idx):\n",
    "    project_name = get_project_name(project_idx)\n",
    "    student_ratings = data[\"students\"][student_idx][\"rating_per_project_name\"]\n",
    "    \n",
    "    if project_name not in student_ratings:\n",
    "        return WORST_RATING\n",
    "    \n",
    "    return student_ratings[project_name]\n",
    "\n",
    "def get_student_name(student_idx):\n",
    "    return data[\"students\"][student_idx][\"name\"]\n",
    "\n",
    "def print_grouping(gene: Gene) -> None:\n",
    "    grouping = create_project_groups(gene)\n",
    "    for project_idx, group in enumerate(grouping):\n",
    "        if len(group) > 0:\n",
    "            print(get_project_name(project_idx))\n",
    "            for student_idx in group:\n",
    "                print(f\"- {get_student_name(student_idx)} {get_student_rating(project_idx, student_idx)}\")\n",
    "            print()\n",
    "            \n",
    "def create_project_groups(gene: Gene) -> Grouping:\n",
    "    project_idxs, students_idxs = gene.project_idxs, gene.student_idxs\n",
    "    student_queue = list(students_idxs)\n",
    "    project_groups = [[] for _ in range(n_projects)]\n",
    "    \n",
    "    for project_idx in project_idxs:\n",
    "        max_assignements = get_max_assignements_project(project_idx)\n",
    "        project_group = project_groups[project_idx]\n",
    "        \n",
    "        while len(project_group) < max_assignements and len(student_queue) > 0:\n",
    "            student_idx = student_queue.pop()\n",
    "            project_group.append(student_idx)\n",
    "            \n",
    "        if len(student_queue) <= 0:\n",
    "            break\n",
    "            \n",
    "    return project_groups"
   ],
   "metadata": {
    "collapsed": false,
    "pycharm": {
     "name": "#%%\n",
     "is_executing": false
    }
   }
  },
  {
   "cell_type": "markdown",
   "source": [
    "## Gene creation functions"
   ],
   "metadata": {
    "collapsed": false
   }
  },
  {
   "cell_type": "code",
   "execution_count": 3,
   "outputs": [],
   "source": [
    "def create_individual() -> Gene:\n",
    "    s = list(range(n_students))\n",
    "    p = list(range(n_projects))\n",
    "    \n",
    "    random.shuffle(s)\n",
    "    random.shuffle(p)\n",
    "    \n",
    "    return Gene(student_idxs=s, project_idxs=p)\n",
    "  \n",
    "def copy_individual(gene: Gene) -> Gene:\n",
    "    student_idxs = list(gene.student_idxs)\n",
    "    project_idxs = list(gene.project_idxs)\n",
    "    \n",
    "    return Gene(student_idxs=student_idxs, project_idxs=project_idxs)"
   ],
   "metadata": {
    "collapsed": false,
    "pycharm": {
     "name": "#%%\n",
     "is_executing": false
    }
   }
  },
  {
   "cell_type": "markdown",
   "source": [
    "## Gene variation functions"
   ],
   "metadata": {
    "collapsed": false
   }
  },
  {
   "cell_type": "code",
   "execution_count": 4,
   "outputs": [],
   "source": [
    "def swap_two_indice(l: List):\n",
    "    i = random.randint(0, len(l) -1)\n",
    "    j = random.randint(0, len(l) -1)\n",
    "\n",
    "    l[i], l[j] = l[j], l[i]\n",
    "\n",
    "def mutate(gene: Indiviual) -> Indiviual:\n",
    "    if random.choice([True, False]):\n",
    "        swap_two_indice(gene[0].project_idxs)\n",
    "    else:\n",
    "        swap_two_indice(gene[0].student_idxs)\n",
    "        \n",
    "    return gene\n",
    "\n",
    "\n",
    "def cross_over(p1: Indiviual, p2: Indiviual) -> Tuple[Indiviual, Indiviual]:\n",
    "    tools.cxOrdered(p1[0].student_idxs, p2[0].student_idxs)\n",
    "    \n",
    "    return p1, p2\n",
    "\n",
    "def cross_over2(p1: Indiviual, p2: Indiviual) -> Tuple[Indiviual, Indiviual]:   \n",
    "    comparision_coss_over(p1[0].student_idxs, p2[0].student_idxs)\n",
    "    comparision_coss_over(p1[0].project_idxs, p2[0].project_idxs)\n",
    "    \n",
    "    return p1, p2\n",
    "   \n",
    "def comparision_coss_over(l1: List, l2: List) -> None:  \n",
    "    is_the_same_list = [g1 == g2 for g1, g2 in zip(l1, l2)]\n",
    "    possible_values = [g1 for g1, g2 in zip(l1, l2) if g1 != g2]\n",
    "    possible_values2 = list(possible_values)\n",
    "    \n",
    "    random.shuffle(possible_values)\n",
    "    random.shuffle(possible_values2)\n",
    "    \n",
    "    for i, is_the_same in enumerate(is_the_same_list):\n",
    "        if not is_the_same:\n",
    "            l1[i] = possible_values.pop()\n",
    "            l2[i] = possible_values2.pop()"
   ],
   "metadata": {
    "collapsed": false,
    "pycharm": {
     "name": "#%%\n",
     "is_executing": false
    }
   }
  },
  {
   "cell_type": "markdown",
   "source": [
    "## Evaluation functions"
   ],
   "metadata": {
    "collapsed": false,
    "pycharm": {
     "name": "#%% md\n"
    }
   }
  },
  {
   "cell_type": "code",
   "execution_count": 5,
   "outputs": [],
   "source": [
    "def eval_worst_rating(gene: Gene) -> int:\n",
    "    grouping = create_project_groups(gene)\n",
    "    worst_ratings_per_group = []\n",
    "    for project_idx, group in enumerate(grouping):\n",
    "        if len(group) > 0:\n",
    "            ratings_per_group = list(map(lambda student_idx: get_student_rating(project_idx, student_idx), group))\n",
    "            worst_ratings_per_group.append(max(ratings_per_group))\n",
    "    \n",
    "    worst_rating = max(worst_ratings_per_group)\n",
    "    \n",
    "    return worst_rating\n",
    "\n",
    "def eval_worst_rating2(gene: Gene) -> int:\n",
    "    grouping = create_project_groups(gene)\n",
    "    worst_ratings = []\n",
    "    for project_idx, group in enumerate(grouping):\n",
    "        if len(group) > 0:\n",
    "            ratings_per_group = list(map(lambda student_idx: 10 ** (get_student_rating(project_idx, student_idx) - 1), group))\n",
    "            worst_ratings.extend(ratings_per_group)\n",
    "\n",
    "\n",
    "    return sum(worst_ratings)\n",
    "\n",
    "def eval_summed_rating(gene: Gene) -> int:\n",
    "    grouping = create_project_groups(gene)\n",
    "    s = 0\n",
    "    for project_idx, group in enumerate(grouping):\n",
    "        if len(group) > 0:\n",
    "            ratings_per_group = list(map(lambda student_idx: get_student_rating(project_idx, student_idx) ** 2, group))\n",
    "            s += sum(ratings_per_group)\n",
    "    \n",
    "    return s \n"
   ],
   "metadata": {
    "collapsed": false,
    "pycharm": {
     "name": "#%%\n",
     "is_executing": false
    }
   }
  },
  {
   "cell_type": "code",
   "execution_count": 6,
   "outputs": [
    {
     "data": {
      "text/plain": "[Gene(project_idxs=[5, 1, 10, 6, 2, 12, 8, 0, 11, 4, 7, 13, 9, 3], student_idxs=[46, 17, 16, 26, 7, 21, 18, 37, 22, 3, 8, 0, 1, 36, 19, 42, 11, 40, 35, 9, 14, 39, 45, 38, 2, 5, 41, 44, 27, 32, 30, 10, 28, 31, 24, 33, 6, 15, 29, 20, 4, 12, 43, 13, 34, 25, 23])]"
     },
     "metadata": {},
     "output_type": "execute_result",
     "execution_count": 6
    }
   ],
   "source": [
    "toolbox = base.Toolbox()\n",
    "\n",
    "creator.create(\"FitnessMin\", base.Fitness, weights=(-1,))\n",
    "creator.create(\"Individual\", list, fitness=creator.FitnessMin)\n",
    "\n",
    "toolbox.register(\"individual\", tools.initRepeat, container=creator.Individual, func=create_individual, n=1)\n",
    "toolbox.register(\"population\", tools.initRepeat, list, toolbox.individual)\n",
    "\n",
    "toolbox.register(\"mate\", cross_over2)\n",
    "toolbox.register(\"mutate\", mutate)\n",
    "#toolbox.register(\"evaluate\", lambda x: tuple([eval_summed_rating(x[0])]))\n",
    "toolbox.register(\"evaluate\", lambda x: tuple([eval_worst_rating2(x[0])]))\n",
    "toolbox.register(\"select\", tools.selTournament, tournsize=3)\n",
    "\n",
    "toolbox.individual()"
   ],
   "metadata": {
    "collapsed": false,
    "pycharm": {
     "name": "#%%\n",
     "is_executing": false
    }
   }
  },
  {
   "cell_type": "code",
   "execution_count": 7,
   "outputs": [
    {
     "data": {
      "text/plain": "<Figure size 432x288 with 1 Axes>",
      "image/png": "[encoded data removed]"
     },
     "metadata": {
      "needs_background": "light"
     },
     "output_type": "display_data"
    },
    {
     "name": "stderr",
     "text": [
      "100%|██████████| 300/300 [07:05<00:00,  1.42s/it]\n"
     ],
     "output_type": "stream"
    },
    {
     "name": "stdout",
     "text": [
      "4\n",
      "167\n",
      "1811\n",
      "Can deep learning recognize Lego pieces?\n",
      "- Noah Jadoenathmisier 2\n",
      "- Berend Kam 1\n",
      "- Gijs de Jong 2\n",
      "- Stef Siekman 2\n",
      "- Louis Gevers 2\n",
      "\n",
      "Algorithmic Comparison for the Multi-Agent Path Finding Problem with Waypoints\n",
      "- Cian Jansen 2\n",
      "- Arjen Ferwerda 2\n",
      "- Yaniv Oren 2\n",
      "- Jeroen van Dijk 1\n",
      "- Andor Michels 2\n",
      "\n",
      "Learning and Decision Making for Traffic Control\n",
      "- Daan den Ouden 2\n",
      "- David Happel 1\n",
      "- Pepijn Tersmette 1\n",
      "- Doreen Mulder 1\n",
      "- Chris van der Werf 1\n",
      "\n",
      "Ripple: Improving a Major Decentralized Money Transfer Network\n",
      "- Marijn Roelvink 2\n",
      "- Emanuel Kuhn 2\n",
      "- Wolf Bubberman 1\n",
      "- Hans Brouwer 3\n",
      "- Sengim Karayalain 1\n",
      "\n",
      "Natural Language Modelling for TV shows\n",
      "- Eric van der Toorn 1\n",
      "- Johannes IJpma 1\n",
      "- Wouter van Lil 1\n",
      "- Pia Keukeleire 1\n",
      "- Simon Tulling 2\n",
      "- Dimitri Stallenberg 2\n",
      "- Katja Schmahl 2\n",
      "\n",
      "Optimal usage of compute clusters by chaining short jobs\n",
      "- Thomas van Tussenbroek 3\n",
      "- Kirti Biharie 1\n",
      "- Rembrandt Oltmans 2\n",
      "- Nishad Tahur 1\n",
      "- Jeroen Galjaard 1\n",
      "\n",
      "Understanding the role of abstractions in object-oriented software systems\n",
      "- Francis Behnen 2\n",
      "- Louise Leibbrandt 3\n",
      "- Rohan Sobha 2\n",
      "- Timon Bestebreur 2\n",
      "- Sophie Walboomers 3\n",
      "\n",
      "Conversational search\n",
      "- Owen Versteeg 1\n",
      "- Sterre Lutz 4\n",
      "- Jeroen Kappe 3\n",
      "- Thijs Raijmakers 3\n",
      "- Yohan Runhaar 2\n",
      "\n",
      "New Generation Iterative Prisoner's Dilemma\n",
      "- Beryl van Gelderen 1\n",
      "- Hiba Abderrazik 1\n",
      "- Djoshua Moonen 1\n",
      "- David Cian 1\n",
      "- Jim Kok 1\n",
      "\n"
     ],
     "output_type": "stream"
    }
   ],
   "source": [
    "#TODO try other objective functions\n",
    "pop = toolbox.population(n=10000)\n",
    "CXPB, MUTPB, NGEN = 0.1, 0.5, 300\n",
    "\n",
    "# Evaluate the entire population\n",
    "fitnesses = map(toolbox.evaluate, pop)\n",
    "for ind, fit in zip(pop, fitnesses):\n",
    "    ind.fitness.values = fit\n",
    "\n",
    "\n",
    "best_ind = toolbox.population(1)[0]\n",
    "best_v = toolbox.evaluate(best_ind)\n",
    "best_restult = eval_worst_rating(best_ind[0])\n",
    "\n",
    "xs = []\n",
    "ys = []\n",
    "\n",
    "for g in trange(NGEN):\n",
    "\n",
    "    \n",
    "    # Select the next generation individuals\n",
    "    offspring = toolbox.select(pop, len(pop))\n",
    "    # Clone the selected individuals\n",
    "    offspring = list(map(toolbox.clone, offspring))\n",
    "\n",
    "    # Apply crossover and mutation on the offspring\n",
    "    for child1, child2 in zip(offspring[::2], offspring[1::2]):\n",
    "        if random.random() < CXPB:\n",
    "            toolbox.mate(child1, child2)\n",
    "            del child1.fitness.values\n",
    "            del child2.fitness.values\n",
    "\n",
    "    for mutant in offspring:\n",
    "        if random.random() < MUTPB:\n",
    "            toolbox.mutate(mutant)\n",
    "            del mutant.fitness.values\n",
    "\n",
    "    # Evaluate the individuals with an invalid fitness\n",
    "    invalid_ind = [ind for ind in offspring if not ind.fitness.valid]\n",
    "    fitnesses = list(map(toolbox.evaluate, invalid_ind))\n",
    "    for ind, fit in zip(invalid_ind, fitnesses):\n",
    "        ind.fitness.values = fit\n",
    "        if  fit[0] < best_v[0]:\n",
    "            best_v = ind.fitness.values\n",
    "            best_ind = ind\n",
    "            best_restult = eval_worst_rating(ind[0])\n",
    "            \n",
    "        \n",
    "    xs.append(g)\n",
    "    ys.append(best_restult)\n",
    "\n",
    "    # The population is entirely replaced by the offspring\n",
    "    pop[:] = offspring\n",
    "    \n",
    "    clear_output(wait=True)\n",
    "    plt.plot(xs, ys)\n",
    "    plt.title(f'{best_ind.fitness.values}')\n",
    "    plt.show()\n",
    "\n",
    "#for ind in sorted(pop, key=lambda ind: ind.fitness.values):\n",
    "#    print(ind.fitness.values)\n",
    "\n",
    "\n",
    "print(eval_worst_rating(best_ind[0]))\n",
    "print(eval_summed_rating(best_ind[0]))\n",
    "print(eval_worst_rating2(best_ind[0]))\n",
    "print_grouping(best_ind[0])\n",
    "\n"
   ],
   "metadata": {
    "collapsed": false,
    "pycharm": {
     "name": "#%%\n",
     "is_executing": false
    }
   }
  },
  {
   "cell_type": "code",
   "execution_count": 7,
   "outputs": [],
   "source": [],
   "metadata": {
    "collapsed": false,
    "pycharm": {
     "name": "#%%\n",
     "is_executing": false
    }
   }
  }
 ],
 "metadata": {
  "kernelspec": {
   "display_name": "Python 3",
   "language": "python",
   "name": "python3"
  },
  "language_info": {
   "codemirror_mode": {
    "name": "ipython",
    "version": 2
   },
   "file_extension": ".py",
   "mimetype": "text/x-python",
   "name": "python",
   "nbconvert_exporter": "python",
   "pygments_lexer": "ipython2",
   "version": "2.7.6"
  },
  "pycharm": {
   "stem_cell": {
    "cell_type": "raw",
    "source": [],
    "metadata": {
     "collapsed": false
    }
   }
  }
 },
 "nbformat": 4,
 "nbformat_minor": 0
}